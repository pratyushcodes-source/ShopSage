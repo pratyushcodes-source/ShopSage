{
 "cells": [
  {
   "cell_type": "code",
   "execution_count": 7,
   "id": "dfc8be2a",
   "metadata": {},
   "outputs": [],
   "source": [
    "from typing import Dict, Union\n",
    "# from langgraph.graph import StateGraph\n",
    "from langchain.agents import AgentExecutor, Tool\n",
    "from langchain.chat_models import ChatOpenAI\n",
    "from langchain.schema import HumanMessage\n",
    "import base64\n",
    "from typing_extensions import Annotated, List, TypedDict, Dict, Any, Literal\n",
    "from typing import Optional\n",
    "# from langgraph.graph.message import add_messages\n",
    "# from langgraph.graph import StateGraph, START, END\n",
    "from langchain_groq import ChatGroq\n",
    "from langchain_core.messages import AIMessage, HumanMessage, SystemMessage\n",
    "from langchain.prompts.chat import ChatPromptTemplate\n",
    "import json\n",
    "from pydantic import BaseModel, Field\n"
   ]
  },
  {
   "cell_type": "code",
   "execution_count": 8,
   "id": "465a61c4",
   "metadata": {},
   "outputs": [],
   "source": [
    "class VlmResponse(BaseModel):\n",
    "    description : Dict\n",
    "    product_details : Dict\n",
    "\n",
    "\n",
    "class RouterResponse(BaseModel):\n",
    "    tool_usage: Literal[\"Wiki_tool\", \"links_tool\", \"no_tool\"] = Field(description=\"The tool to be used by the LLM based on user's request. It must be one of: 'links_tool' or 'Wiki_tool'\")\n",
    "\n",
    "\n",
    "class State(BaseModel):\n",
    "    \"\"\"Simple state object.\"\"\"\n",
    "    msg : List[str]\n",
    "    input_type: Literal[\"image\", \"text\"]\n",
    "    content : str\n",
    "    image_bytes : bytes\n",
    "    product_info : VlmResponse\n",
    "    workflow : RouterResponse\n",
    "    wiki_response : str\n",
    "    wiki_data : str\n",
    "    session_id : str\n",
    "\n"
   ]
  },
  {
   "cell_type": "code",
   "execution_count": null,
   "id": "8c193a69",
   "metadata": {},
   "outputs": [],
   "source": [
    "def input_decide_edge(state: State) -> Literal[\"image_node\", \"text_node\"]:\n",
    "    if state.input_type == \"image\":\n",
    "        return \"image_node\"\n",
    "    elif state.input_type == \"text\":\n",
    "        return \"text_node\""
   ]
  },
  {
   "cell_type": "code",
   "execution_count": 2,
   "id": "88a782dd",
   "metadata": {},
   "outputs": [],
   "source": [
    "\n",
    "    \n",
    "from groq import Groq\n",
    "from dotenv import load_dotenv\n",
    "import os\n",
    "load_dotenv()\n",
    "api = os.environ['GROQ_API']\n",
    "client = Groq(api_key=api)\n",
    "tavily_api=os.environ['TAVILY_API_KEY']\n",
    "\n"
   ]
  },
  {
   "cell_type": "code",
   "execution_count": null,
   "id": "fcea09f2",
   "metadata": {},
   "outputs": [],
   "source": [
    "\n",
    "\n",
    "prompt_info = \"\"\"\n",
    "What is the object in this image? Provide a brief description including its key characteristics like the brand, style, quality, and any relevant information from a shopping perspective. The result should be in JSON format where:\"\n",
    "\"- The key product should hold the name of the object (e.g., phone), *only the product name, no brand or other descriptors*.\"\n",
    "\"- Include additional keys for other relevant details such as brand, style, quality, and any other pertinent attributes based on the image.\"\n",
    "\"- The JSON object should contain these keys in a consistent format, with the values varying based on the image content.\"\n",
    "\n",
    "\"Example:\"\n",
    "\"For a picture which contains a phone, the response should look like this:\n",
    "{\n",
    "  \"product\": \"phone\",\n",
    "  \"brand\": \"Brand Name\",\n",
    "  \"style\": \"Smartphone\",\n",
    "  \"quality\": \"High\",\n",
    "  \"features\": [\"Touchscreen\", \"Fast Charging\", \"Camera Quality\"]\n",
    "}\n",
    "Select the parameters of this JSON result according to the image and there is no need to always use the given parameters\n",
    "Return the result in JSON format. No description or any other content\n",
    "Dont write anything else. no suggestions\n",
    "\"\"\""
   ]
  },
  {
   "cell_type": "code",
   "execution_count": null,
   "id": "b911cdcd",
   "metadata": {},
   "outputs": [],
   "source": [
    "prompt_description = \"\"\"\n",
    "You are a helpful assistant that explains products to people who have no prior knowledge about them.\n",
    "\n",
    "Your task is to analyze an image of a product and provide a detailed, easy-to-understand explanation of what it is, how it works, what it’s used for, and why someone might need or use it. Break down any visual branding, design features, or common use cases clearly.\n",
    "\n",
    "Respond in the following JSON format only:\n",
    "\n",
    "### JSON Output Format:\n",
    "{\n",
    "  \"product_name\": \"\",\n",
    "  \"category\": \"\",\n",
    "  \"detailed_explanation\": \"\",\n",
    "  \"common_uses\": [],\n",
    "  \"who_might_use_this\": [],\n",
    "  \"related_products_or_alternatives\": []\n",
    "}\n",
    "\n",
    "### Example 1:\n",
    "Image: A black wireless headphone with a Sony logo and cushioned ear cups.\n",
    "Output:\n",
    "{\n",
    "  \"product_name\": \"Sony WH-1000XM5 Wireless Noise Cancelling Headphones\",\n",
    "  \"category\": \"Electronics - Audio\",\n",
    "  \"detailed_explanation\": \"These are over-ear wireless headphones made by Sony, designed to provide high-quality audio without the need for cords. They include noise-cancelling technology to block out background sounds, making them ideal for focus or travel. The cushioned ear cups and adjustable headband offer comfort for long listening sessions.\",\n",
    "  \"common_uses\": [\"Listening to music\", \"Taking calls\", \"Watching movies\", \"Blocking noise while traveling\"],\n",
    "  \"who_might_use_this\": [\"Commuters\", \"Office workers\", \"Students\", \"Music enthusiasts\"],\n",
    "  \"related_products_or_alternatives\": [\"Bose QuietComfort 45\", \"Apple AirPods Max\", \"Sennheiser Momentum 4\"]\n",
    "}\n",
    "\n",
    "### Example 2:\n",
    "Image: A purple yoga mat with a textured surface and rolled edge.\n",
    "Output:\n",
    "{\n",
    "  \"product_name\": \"Manduka PRO Yoga Mat\",\n",
    "  \"category\": \"Fitness - Yoga Equipment\",\n",
    "  \"detailed_explanation\": \"This is a yoga mat designed to provide a non-slip, cushioned surface for practicing yoga or stretching exercises. It is textured for grip and made of durable material to support regular use. The mat can be rolled up and carried easily, making it portable for home, gym, or studio use.\",\n",
    "  \"common_uses\": [\"Yoga\", \"Pilates\", \"Stretching\", \"Bodyweight exercises\"],\n",
    "  \"who_might_use_this\": [\"Yoga practitioners\", \"Fitness enthusiasts\", \"People doing home workouts\"],\n",
    "  \"related_products_or_alternatives\": [\"Liforme Yoga Mat\", \"Gaiam Essentials Mat\", \"Lululemon Reversible Mat\"]\n",
    "}\n",
    "\n",
    "Select the parameters of this JSON result according to the image and there is no need to always use the given parameters\n",
    "Return the result in JSON format. No description or any other content\n",
    "Dont write anything else. no suggestions\n",
    "\"\"\""
   ]
  },
  {
   "cell_type": "code",
   "execution_count": null,
   "id": "a0284ec4",
   "metadata": {},
   "outputs": [],
   "source": [
    "\n",
    "\n",
    "ROUTER_PROMPT = \"\"\" \n",
    "You are an AI converstaional assistant and you are responsible to make descisions on What tool do we need to use to provide the user with the necessary information he needs.\n",
    "You have to take into account the whole conversation so far to make a decision to determine what would be the best next choice of tool to use.\n",
    "GENERAL RULES:\n",
    "1. Always consider the whole conversation before you make a decision.\n",
    "2. Only return one of these outputs - \"Wiki_tool\", \"links_tool\" or \"no_tool\".\n",
    "\n",
    "IMPORTANT RULES FOR Wiki_tool calling:\n",
    "1. only use this tool when user want to know information about the given product.\n",
    "2. only use this tool when user wants a clarification of a doubt.\n",
    "3. only use this tool when user is asking a question.\n",
    "4. DO NOT create use the tool for general questions and descriptions.\n",
    "5. DO NOT use the tool for general messages and descriptions.\n",
    "6. There should be an intent of the user to know information about the product or ask any question regarding it. \n",
    "\n",
    "IMPORTANT RULES FOR links_tool calling:\n",
    "1. Only use this tool if there is an explicit request by the user for suggestion of pproducts.\n",
    "2. Only use this tool if the user wants to buy the products\n",
    "3. Only use this tool if the user wants to links for the products to buy.\n",
    "4. There should be an intent of the user to get suggestions or recommendations for similar products.\n",
    "\n",
    "IMPORTANT RULES FOR no_tool calling:\n",
    "1. only return no tool if there is no need to call any tool as per the user's intention.\n",
    "2. do this only if user has sent a general message and doesnt want any information from other tool's capabilities.\n",
    "3. DO NOT use this if user is asking for any information or questions.\n",
    "4. DO NOT use this if user is interested to buy the product.\n",
    "4. only use this for general messages and descriptions from the user.\n",
    "\n",
    "\n",
    "The output must be one of:\n",
    "1. 'Wiki_tool' - only when the intent for the user is to get information regarding the product or get clarifications on his questions.\n",
    "2. 'links_tool' - only when there is an intent of the user to find products to buy or get the links of the products.\n",
    "3. 'no_tool' - only when there is no need for any other tool and there is a general message sent by the user.\n",
    "\"\"\""
   ]
  },
  {
   "cell_type": "code",
   "execution_count": null,
   "id": "6d5bb1dd",
   "metadata": {},
   "outputs": [],
   "source": [
    "def handle_image(params: Dict) -> Dict:\n",
    "    # Here we'd typically do more complex image processing\n",
    "    image_data_url = f\"data:image/jpeg;base64,{base64.b64encode(params['content']).decode()}\"\n",
    "    prompt_template_vision = [\n",
    "                            {\n",
    "                                \"role\": \"user\",\n",
    "                                \"content\": [\n",
    "                                    {\n",
    "                                        \"type\": \"text\",\n",
    "                                        \"text\": params['prompt']\n",
    "                                    },\n",
    "                                    {\n",
    "                                        \"type\": \"image_url\",\n",
    "                                        \"image_url\": {\n",
    "                                            \"url\": image_data_url\n",
    "                                        }\n",
    "                                    }\n",
    "                                ]\n",
    "                            }\n",
    "                        ]\n",
    "    completion = client.chat.completions.create(\n",
    "                            model=\"meta-llama/llama-4-scout-17b-16e-instruct\",\n",
    "                            messages=prompt_template_vision,\n",
    "                            temperature=1,\n",
    "                            max_tokens=1024,\n",
    "                            top_p=1,\n",
    "                            stream=False,\n",
    "                            stop=None,\n",
    "                        )\n",
    "    response = completion.choices[0].message.content\n",
    "    print(\"Vision resp =\",response)\n",
    "    try:\n",
    "        return {\"result\": json.loads(response)}\n",
    "    except json.JSONDecodeError:\n",
    "        print(\"NON JSON RESP\")\n",
    "        return {\"result\":response}\n",
    "    "
   ]
  },
  {
   "cell_type": "code",
   "execution_count": null,
   "id": "27073707",
   "metadata": {},
   "outputs": [],
   "source": []
  },
  {
   "cell_type": "code",
   "execution_count": null,
   "id": "2fc186d5",
   "metadata": {},
   "outputs": [
    {
     "name": "stdout",
     "output_type": "stream",
     "text": [
      "Vision resp = {\n",
      " \"product\": \"t-shirt\",\n",
      " \"brand\": \"Nike\",\n",
      " \"style\": \"Graphic T-shirt\",\n",
      " \"quality\": \"High\",\n",
      " \"features\": [\"Cotton Material\", \"Short Sleeve\", \"Crew Neck\"]\n",
      "}\n",
      "{'result': {'product': 't-shirt', 'brand': 'Nike', 'style': 'Graphic T-shirt', 'quality': 'High', 'features': ['Cotton Material', 'Short Sleeve', 'Crew Neck']}}\n"
     ]
    }
   ],
   "source": [
    "url = 'D:\\Projects\\SRM\\\\testing\\\\temp_D92760A4-ECB4-49BC-8CB3-025AB6B4DBF4.jpg'\n",
    "with open(url, \"rb\") as image_file:\n",
    "    image_binary = image_file.read()\n",
    "    # image_bytes = base64.b64encode(image_binary).decode()\n",
    "    image_result = handle_image({\"content\": image_binary, 'prompt': prompt_info})\n",
    "    print(image_result)\n",
    "    "
   ]
  },
  {
   "cell_type": "code",
   "execution_count": 17,
   "id": "7331bacc",
   "metadata": {},
   "outputs": [
    {
     "name": "stdout",
     "output_type": "stream",
     "text": [
      "Vision resp = {\n",
      " \"product_name\": \"Nike Graphic T-Shirt\",\n",
      " \"category\": \"Fashion - Apparel\",\n",
      " \"detailed_explanation\": \"This is a black, short-sleeved T-shirt made by Nike, featuring a graphic print on the front. The print includes a colorful tropical pattern with leaves and flowers, and the Nike logo prominently displayed in white. The shirt appears to be made of comfortable, casual wear material, suitable for everyday use. The design is versatile, allowing it to be dressed up or down depending on the occasion.\",\n",
      " \"common_uses\": [\"Casual wear\", \"Athleisure\", \"Running errands\", \"Social outings\"],\n",
      " \"who_might_use_this\": [\"Young adults\", \"Athletes\", \"Fashion enthusiasts\", \"Anyone looking for casual apparel\"],\n",
      " \"related_products_or_alternatives\": [\"Adidas Graphic T-Shirt\", \"Under Armour T-Shirt\", \"Champion Graphic Tee\"]\n",
      "}\n",
      "{'result': {'product_name': 'Nike Graphic T-Shirt', 'category': 'Fashion - Apparel', 'detailed_explanation': 'This is a black, short-sleeved T-shirt made by Nike, featuring a graphic print on the front. The print includes a colorful tropical pattern with leaves and flowers, and the Nike logo prominently displayed in white. The shirt appears to be made of comfortable, casual wear material, suitable for everyday use. The design is versatile, allowing it to be dressed up or down depending on the occasion.', 'common_uses': ['Casual wear', 'Athleisure', 'Running errands', 'Social outings'], 'who_might_use_this': ['Young adults', 'Athletes', 'Fashion enthusiasts', 'Anyone looking for casual apparel'], 'related_products_or_alternatives': ['Adidas Graphic T-Shirt', 'Under Armour T-Shirt', 'Champion Graphic Tee']}}\n"
     ]
    }
   ],
   "source": [
    "url = 'D:\\Projects\\SRM\\\\testing\\\\temp_D92760A4-ECB4-49BC-8CB3-025AB6B4DBF4.jpg'\n",
    "with open(url, \"rb\") as image_file:\n",
    "    image_binary = image_file.read()\n",
    "    # image_bytes = base64.b64encode(image_binary).decode()\n",
    "    image_result = handle_image({\"content\": image_binary, 'prompt': prompt_description})\n",
    "    print(image_result)\n",
    "    "
   ]
  },
  {
   "cell_type": "code",
   "execution_count": null,
   "id": "1209ae01",
   "metadata": {},
   "outputs": [],
   "source": [
    "def vision_node(state: State):\n",
    "    prod_info = handle_image({'content':state.image_bytes, 'prompt': prompt_info})\n",
    "    prod_desc = handle_image({'content':state.image_bytes, 'prompt': prompt_description})\n",
    "    resp = VlmResponse(description=prod_desc, product_details=prod_info)\n",
    "    state.product_info = resp\n",
    "    return state\n",
    "    "
   ]
  },
  {
   "cell_type": "code",
   "execution_count": null,
   "id": "4e6f3527",
   "metadata": {},
   "outputs": [],
   "source": [
    "from langchain_core.prompts import ChatPromptTemplate , MessagesPlaceholder\n",
    "\n",
    "def get_router_chain():\n",
    "    model = ChatGroq( api_key=api, model=\"gemma2-9b-it\").with_structured_output(RouterResponse)\n",
    "\n",
    "    prompt = ChatPromptTemplate.from_messages(\n",
    "        [(\"system\", ROUTER_PROMPT), MessagesPlaceholder(variable_name=\"messages\")]\n",
    "    )\n",
    "\n",
    "    return prompt | model\n",
    "\n"
   ]
  },
  {
   "cell_type": "code",
   "execution_count": 15,
   "id": "a4bd48e9",
   "metadata": {},
   "outputs": [],
   "source": [
    "chain = get_router_chain()\n",
    "\n"
   ]
  },
  {
   "cell_type": "code",
   "execution_count": null,
   "id": "a6264bee",
   "metadata": {},
   "outputs": [
    {
     "data": {
      "text/plain": [
       "'links_tool'"
      ]
     },
     "execution_count": 16,
     "metadata": {},
     "output_type": "execute_result"
    }
   ],
   "source": [
    "chain.invoke({'messages': [\"give me some product links like this\"]}).tool_usage\n"
   ]
  },
  {
   "cell_type": "code",
   "execution_count": 95,
   "id": "28fb24c0",
   "metadata": {},
   "outputs": [
    {
     "data": {
      "text/plain": [
       "'Wiki_tool'"
      ]
     },
     "execution_count": 95,
     "metadata": {},
     "output_type": "execute_result"
    }
   ],
   "source": [
    "chain.invoke({'messages': [\"can i wear this in summer\"]}).tool_usage\n"
   ]
  },
  {
   "cell_type": "code",
   "execution_count": 96,
   "id": "ff874ef5",
   "metadata": {},
   "outputs": [
    {
     "data": {
      "text/plain": [
       "'links_tool'"
      ]
     },
     "execution_count": 96,
     "metadata": {},
     "output_type": "execute_result"
    }
   ],
   "source": [
    "chain.invoke({'messages': [\"i want to buy this\"]}).tool_usage\n"
   ]
  },
  {
   "cell_type": "code",
   "execution_count": 97,
   "id": "e72719ed",
   "metadata": {},
   "outputs": [
    {
     "data": {
      "text/plain": [
       "'Wiki_tool'"
      ]
     },
     "execution_count": 97,
     "metadata": {},
     "output_type": "execute_result"
    }
   ],
   "source": [
    "chain.invoke({'messages': [\"give me more info on this product\"]}).tool_usage\n"
   ]
  },
  {
   "cell_type": "code",
   "execution_count": 106,
   "id": "516d205c",
   "metadata": {},
   "outputs": [
    {
     "data": {
      "text/plain": [
       "('Wiki_tool', 'Wiki_tool')"
      ]
     },
     "execution_count": 106,
     "metadata": {},
     "output_type": "execute_result"
    }
   ],
   "source": [
    "a = chain.invoke({'messages': [\"what is it used for?\"]}).tool_usage\n",
    "\n",
    "b = chain.invoke({'messages': [\"this product is a tshirt\", \"what is it used for?\"]}).tool_usage\n",
    "\n",
    "a,b"
   ]
  },
  {
   "cell_type": "code",
   "execution_count": 102,
   "id": "9bdb41f7",
   "metadata": {},
   "outputs": [
    {
     "data": {
      "text/plain": [
       "'no_tool'"
      ]
     },
     "execution_count": 102,
     "metadata": {},
     "output_type": "execute_result"
    }
   ],
   "source": [
    "chain.invoke({'messages': [\"how to use this\"]}).tool_usage\n"
   ]
  },
  {
   "cell_type": "code",
   "execution_count": 103,
   "id": "dedd8dab",
   "metadata": {},
   "outputs": [
    {
     "data": {
      "text/plain": [
       "'no_tool'"
      ]
     },
     "execution_count": 103,
     "metadata": {},
     "output_type": "execute_result"
    }
   ],
   "source": [
    "chain.invoke({'messages': [\"hello\"]}).tool_usage\n"
   ]
  },
  {
   "cell_type": "code",
   "execution_count": 20,
   "id": "e02f37b8",
   "metadata": {},
   "outputs": [
    {
     "data": {
      "text/plain": [
       "'no_tool'"
      ]
     },
     "execution_count": 20,
     "metadata": {},
     "output_type": "execute_result"
    }
   ],
   "source": [
    "chain.invoke({'messages': [\"Does it have hook or zip?\"]}).tool_usage\n"
   ]
  },
  {
   "cell_type": "markdown",
   "id": "43541607",
   "metadata": {},
   "source": []
  },
  {
   "cell_type": "code",
   "execution_count": null,
   "id": "26d72283",
   "metadata": {},
   "outputs": [],
   "source": [
    "# def route_node(state: State):\n",
    "def router_node(state: State) -> State:\n",
    "        try:\n",
    "            chain = get_router_chain()\n",
    "\n",
    "            state.workflow = chain.invoke({'messages': state.msg[-1:]})\n",
    "            return state\n",
    "        except Exception as e:\n",
    "                raise(e)"
   ]
  },
  {
   "cell_type": "code",
   "execution_count": 22,
   "id": "f9aea21d",
   "metadata": {},
   "outputs": [],
   "source": [
    "def get_llm():\n",
    "    llm = ChatGroq(api_key=api, model=\"gemma2-9b-it\")\n",
    "    return llm\n",
    " "
   ]
  },
  {
   "cell_type": "code",
   "execution_count": null,
   "id": "dcf67a40",
   "metadata": {},
   "outputs": [],
   "source": [
    "fallback_response = \"NOT FOUND\"\n",
    "context = '''{\n",
    " \"product_name\": \"Nike Graphic T-Shirt\",\n",
    " \"category\": \"Fashion - Apparel\",\n",
    " \"detailed_explanation\": \"This is a black, short-sleeved T-shirt made by Nike, featuring a graphic print on the front. The print includes a colorful tropical pattern with leaves and flowers, and the Nike logo prominently displayed in white. The shirt appears to be made of comfortable, casual wear material, suitable for everyday use. The design is versatile, allowing it to be dressed up or down depending on the occasion.\",\n",
    " \"common_uses\": [\"Casual wear\", \"Athleisure\", \"Running errands\", \"Social outings\"],\n",
    " \"who_might_use_this\": [\"Young adults\", \"Athletes\", \"Fashion enthusiasts\", \"Anyone looking for casual apparel\"],\n",
    " \"related_products_or_alternatives\": [\"Adidas Graphic T-Shirt\", \"Under Armour T-Shirt\", \"Champion Graphic Tee\"]\n",
    "}'''\n",
    "system_prompt_wiki = (\n",
    "        \"You are an assistant that only answers questions strictly using the provided context. \"\n",
    "        f\"If the answer is not clearly stated or implied in the context, respond exactly with: \\\"{fallback_response}\\\"\"\n",
    "    )\n",
    "\n",
    "\n"
   ]
  },
  {
   "cell_type": "code",
   "execution_count": null,
   "id": "8ad06ddb",
   "metadata": {},
   "outputs": [],
   "source": []
  },
  {
   "cell_type": "code",
   "execution_count": 47,
   "id": "ff667045",
   "metadata": {},
   "outputs": [],
   "source": [
    "def context_node(state: State) -> State:\n",
    "    llm = get_llm()\n",
    "    user_prompt = (\n",
    "            f\"### CONTEXT ###\\n{state.product_info.description}\\n\\n\"\n",
    "            f\"### QUESTION ###\\n{state.msg[-1:]}\\n\\n\"\n",
    "            \"Answer the question using only the context above. Also format the answer in a good short sentence\"\n",
    "        )\n",
    "\n",
    "    messages = [\n",
    "        {\"role\": \"system\", \"content\": system_prompt_wiki},\n",
    "        {\"role\": \"user\", \"content\": user_prompt}\n",
    "    ]\n",
    "\n",
    "    \n",
    "    response = llm.invoke(messages)\n",
    "    state.wiki_response = response\n",
    "    return state\n",
    "    \n"
   ]
  },
  {
   "cell_type": "code",
   "execution_count": null,
   "id": "368813a0",
   "metadata": {},
   "outputs": [],
   "source": []
  },
  {
   "cell_type": "code",
   "execution_count": null,
   "id": "235bff10",
   "metadata": {},
   "outputs": [
    {
     "name": "stdout",
     "output_type": "stream",
     "text": [
      "Alternatives include Adidas Graphic T-Shirt, Under Armour T-Shirt, and Champion Graphic Tee.\n",
      "\n"
     ]
    }
   ],
   "source": [
    "\n",
    "response=context_node(question = \"tell me some alternatives for the nike tshirt\")\n",
    "print(response.content)"
   ]
  },
  {
   "cell_type": "code",
   "execution_count": null,
   "id": "d06bc7e7",
   "metadata": {},
   "outputs": [
    {
     "name": "stdout",
     "output_type": "stream",
     "text": [
      "NOT FOUND \n",
      "\n"
     ]
    }
   ],
   "source": [
    "\n",
    "response=context_node(question = \"can this be used in the winters\")\n",
    "print(response.content)"
   ]
  },
  {
   "cell_type": "code",
   "execution_count": null,
   "id": "e3965c16",
   "metadata": {},
   "outputs": [
    {
     "name": "stdout",
     "output_type": "stream",
     "text": [
      "The shirt can be dressed up or down depending on the occasion. \n",
      "\n"
     ]
    }
   ],
   "source": [
    "\n",
    "response=context_node(question = \"how to wear it\")\n",
    "print(response.content)"
   ]
  },
  {
   "cell_type": "code",
   "execution_count": 17,
   "id": "f076f964",
   "metadata": {},
   "outputs": [],
   "source": [
    "from langchain_community.utilities import WikipediaAPIWrapper\n",
    "from langchain_community.tools import WikipediaQueryRun\n",
    "\n",
    "def wiki_node(state: State) -> State:\n",
    "    wiki_wrappper = WikipediaAPIWrapper(top_k_results=2, doc_content_chars_max=2000)\n",
    "    wiki_tool = WikipediaQueryRun(api_wrapper= wiki_wrappper)\n",
    "    query = f\"{state.product_info.product_details['product']}\" \n",
    "\n",
    "    res = wiki_tool.invoke(query)\n",
    "    state.wiki_data = res\n",
    "    return state\n"
   ]
  },
  {
   "cell_type": "code",
   "execution_count": null,
   "id": "600d0b5b",
   "metadata": {},
   "outputs": [
    {
     "data": {
      "text/plain": [
       "\"Page: T-shirt\\nSummary: A T-shirt (also spelled tee shirt, or tee for short) is a style of fabric shirt named after the T shape of its body and sleeves. Traditionally, it has short sleeves and a round neckline, known as a crew neck, which lacks a collar. T-shirts are generally made of stretchy, light, and inexpensive fabric and are easy to clean. The T-shirt evolved from undergarments used in the 19th century and, in the mid-20th century, transitioned from undergarments to general-use casual clothing. \\nT-shirts are typically made of cotton textile in a stockinette or jersey knit, which has a distinctively pliable texture compared to shirts made of woven cloth. Some modern versions have a body made from a continuously knitted tube, produced on a circular knitting machine, such that the torso has no side seams. The manufacture of T-shirts has become highly automated and may include cutting fabric with a laser or a water jet.\\nT-shirts are inexpensive to produce and are often part of fast fashion, leading to outsized sales of T-shirts compared to other attire. For example, two billion T-shirts are sold worldwide each year, and the average person in Sweden buys nine T-shirts a year. Production processes vary but can be environmentally intensive and include the environmental impact caused by their materials, such as cotton, which uses large amounts of water and pesticides.\\n\\nPage: Wet T-shirt contest\\nSummary: A wet T-shirt contest is a competition involving exhibitionism, typically featuring young female contestants at a nightclub, bar, or resort. Wet T-shirt contestants generally wear thin white or light-colored T-shirts without bras, bikini tops, or other garments beneath. Water (often ice water) is then sprayed or poured onto the participants' chests, causing their T-shirts to turn translucent and cling to their breasts. The comparatively rarer male equivalent is the wet boxer contest, sometimes held at gay bars.\\nContestants may take turns dancing or posing before the au\""
      ]
     },
     "execution_count": 14,
     "metadata": {},
     "output_type": "execute_result"
    }
   ],
   "source": [
    "\n",
    "wiki_node(\"T-Shirt\")"
   ]
  },
  {
   "cell_type": "code",
   "execution_count": 11,
   "id": "bf53fa7a",
   "metadata": {},
   "outputs": [],
   "source": [
    "WIKI_CHATBOT_SYSTEM_PROMPT = '''You are a helpful and intelligent assistant trained to infer answers using reasoning and indirect hints from the given context.\n",
    "\n",
    "You will be provided with:\n",
    "1. A user question\n",
    "2. Product-specific information (may or may not be directly helpful)\n",
    "3. General context (like a Wikipedia article or summary)\n",
    "\n",
    "The answer is not directly present in the provided information. You are expected to:\n",
    "- Carefully read the context and try to guess the answer\n",
    "- Use logical deduction, common sense, and your general knowledge\n",
    "- If uncertain, make a best-guess based on available clues\n",
    "\n",
    "Do not say \"I don't know\" or \"It's not mentioned.\" Instead, provide a thoughtful, inferred answer.\n",
    "'''"
   ]
  },
  {
   "cell_type": "code",
   "execution_count": null,
   "id": "4e614091",
   "metadata": {},
   "outputs": [],
   "source": [
    "# def wiki_chatbot_node(state: State) -> State:\n",
    "def wiki_chatbot_node(question, info, general):\n",
    "\n",
    "    llm = get_llm()\n",
    "    user_prompt = (\n",
    "            # f\"### PRODUCT INFORMATION ###\\n{state.product_info.description}\\n\\n\"\n",
    "            # f\"### GENERAL INFORMATION ###\\n{state.wiki_data}\\n\\n\"\n",
    "            # f\"### QUESTION ###\\n{state.msg[-1:]}\\n\\n\"\n",
    "            f\"### PRODUCT INFORMATION ###\\n{info}\\n\\n\"\n",
    "            f\"### GENERAL INFORMATION ###\\n{general}\\n\\n\"\n",
    "            f\"### QUESTION ###\\n{question}\\n\\n\"\n",
    "            \n",
    "        )\n",
    "\n",
    "    messages = [\n",
    "        {\"role\": \"system\", \"content\": WIKI_CHATBOT_SYSTEM_PROMPT},\n",
    "        {\"role\": \"user\", \"content\": user_prompt}\n",
    "    ]\n",
    "\n",
    "    \n",
    "    response = llm.invoke(messages)\n",
    "    # state.wiki_response = response\n",
    "    # return state\n",
    "    return response"
   ]
  },
  {
   "cell_type": "code",
   "execution_count": 23,
   "id": "471fbce9",
   "metadata": {},
   "outputs": [],
   "source": [
    "info = '''{\n",
    " \"product_name\": \"Nike Graphic T-Shirt\",\n",
    " \"category\": \"Fashion - Apparel\",\n",
    " \"detailed_explanation\": \"This is a black, short-sleeved T-shirt made by Nike, featuring a graphic print on the front. The print includes a colorful tropical pattern with leaves and flowers, and the Nike logo prominently displayed in white. The shirt appears to be made of comfortable, casual wear material, suitable for everyday use. The design is versatile, allowing it to be dressed up or down depending on the occasion.\",\n",
    " \"common_uses\": [\"Casual wear\", \"Athleisure\", \"Running errands\", \"Social outings\"],\n",
    " \"who_might_use_this\": [\"Young adults\", \"Athletes\", \"Fashion enthusiasts\", \"Anyone looking for casual apparel\"],\n",
    " \"related_products_or_alternatives\": [\"Adidas Graphic T-Shirt\", \"Under Armour T-Shirt\", \"Champion Graphic Tee\"]\n",
    "}'''\n",
    "\n",
    "general = '''\"Page: T-shirt\\nSummary: A T-shirt (also spelled tee shirt, or tee for short) is a style of fabric shirt named after the T shape of its body and sleeves. Traditionally, it has short sleeves and a round neckline, known as a crew neck, which lacks a collar. T-shirts are generally made of stretchy, light, and inexpensive fabric and are easy to clean. The T-shirt evolved from undergarments used in the 19th century and, in the mid-20th century, transitioned from undergarments to general-use casual clothing. \\nT-shirts are typically made of cotton textile in a stockinette or jersey knit, which has a distinctively pliable texture compared to shirts made of woven cloth. Some modern versions have a body made from a continuously knitted tube, produced on a circular knitting machine, such that the torso has no side seams. The manufacture of T-shirts has become highly automated and may include cutting fabric with a laser or a water jet.\\nT-shirts are inexpensive to produce and are often part of fast fashion, leading to outsized sales of T-shirts compared to other attire. For example, two billion T-shirts are sold worldwide each year, and the average person in Sweden buys nine T-shirts a year. Production processes vary but can be environmentally intensive and include the environmental impact caused by their materials, such as cotton, which uses large amounts of water and pesticides.\\n\\nPage: Wet T-shirt contest\\nSummary: A wet T-shirt contest is a competition involving exhibitionism, typically featuring young female contestants at a nightclub, bar, or resort. Wet T-shirt contestants generally wear thin white or light-colored T-shirts without bras, bikini tops, or other garments beneath. Water (often ice water) is then sprayed or poured onto the participants' chests, causing their T-shirts to turn translucent and cling to their breasts. The comparatively rarer male equivalent is the wet boxer contest, sometimes held at gay bars.\\nContestants may take turns dancing or posing before the au\"'''"
   ]
  },
  {
   "cell_type": "code",
   "execution_count": 28,
   "id": "0861416b",
   "metadata": {},
   "outputs": [],
   "source": [
    "ans = wiki_chatbot_node(question=\"can i wear this in winters\", info=info, general=general)\n"
   ]
  },
  {
   "cell_type": "code",
   "execution_count": 30,
   "id": "68cb92bc",
   "metadata": {},
   "outputs": [
    {
     "data": {
      "text/plain": [
       "\"While the shirt is described as comfortable casual wear, it's made of light material suitable for warm weather.  It's likely not warm enough to wear comfortably in winter.  \\n\""
      ]
     },
     "execution_count": 30,
     "metadata": {},
     "output_type": "execute_result"
    }
   ],
   "source": [
    "ans.content"
   ]
  },
  {
   "cell_type": "code",
   "execution_count": null,
   "id": "c541a216",
   "metadata": {},
   "outputs": [],
   "source": [
    "CHATBOT_SYSTEM_PROMPT = '''\n",
    "You are a friendly and intelligent Shopping Assistant Chatbot, designed to respond when a user sends a general, casual, or conversational message that is not directly related to product search, product image queries, or product support questions.\n",
    "\n",
    "RULES: \n",
    "1. Engage the user in natural, friendly conversation\n",
    "2. Answer general or casual questions like “Hey, what can you do?”, “Tell me something interesting”, or “How are you?”\n",
    "3. Politely mention that they can also explore products by uploading a photo, asking product-related questions, or requesting recommendations\n",
    "4. if the user greets you, respondf with a helpppful tone and mention that your Name is \"Shopping Assistant\" and also mention your features.\n",
    "5. Always make a suggestion stating the feature to uploade an image and find out abouyt that product\n",
    "\n",
    "\n",
    "Never provide product-specific help, image-based search results, or shopping links directly in this mode.\n",
    "Instead, focus on keeping the conversation engaging and helpful while nudging them toward your shopping features if appropriate.\n",
    "\n",
    "if the user asks about the chatbot use the following information to answer the questions;\n",
    "\n",
    "ABOUT THIS CHATBOT:\n",
    "Our project introduces an advanced shopping assistant powered by a multi-agent workflow designed to optimize and streamline the shopping journey. This intelligent system leverages cutting-edge artificial intelligence to scan shopping items and retrieve detailed product information, including comprehensive descriptions, pricing comparisons, and relevant specifications. By integrating real-time data from multiple sources, the assistant ensures that users receive the most up-to-date and accurate insights, allowing for well-informed purchasing decisions.\n",
    "\n",
    "FEATURES OF THE CHATBOT:\n",
    "Our goal is to develop a smart shopping assistant that leverages AI and machine learning to simplify, inform, and enhance the shopping experience. Traditional shopping often demands extensive research and decision-making. Our assistant addresses these challenges by offering an intuitive, AI-driven platform with the following core features:\n",
    "Automated Product Scanning\n",
    "Users can quickly identify products using image recognition or scanned codes, eliminating manual search efforts.\n",
    "Comprehensive Product Descriptions\n",
    "The assistant delivers detailed specifications, features, and benefits by aggregating information from multiple sources.\n",
    "Real-time Price Comparison\n",
    "It continuously tracks prices across platforms to offer real-time comparisons, deal alerts, and cost-saving suggestions.\n",
    "Insightful Product Reviews\n",
    "Using sentiment analysis, the system summarizes reviews, highlighting pros and cons to support informed decisions.\n",
    "Similar Product Recommendations\n",
    "Based on preferences and behavior, users receive alternative or complementary product suggestions tailored to their needs and budget.\n",
    "Direct Purchase Links\n",
    "The assistant offers one-click access to purchase options from various retailers, streamlining the buying process\n",
    "\n",
    "Now you need to answer the following user question : \n",
    "'''"
   ]
  },
  {
   "cell_type": "code",
   "execution_count": null,
   "id": "b24bd82e",
   "metadata": {},
   "outputs": [],
   "source": [
    "# def wiki_chatbot_node(state: State) -> State:\n",
    "def chatbot_node(question):\n",
    "\n",
    "    llm = get_llm()\n",
    "    user_prompt = (\n",
    "            # f\"### PRODUCT INFORMATION ###\\n{state.product_info.description}\\n\\n\"\n",
    "            # f\"### GENERAL INFORMATION ###\\n{state.wiki_data}\\n\\n\"\n",
    "            # f\"### QUESTION ###\\n{state.msg[-1:]}\\n\\n\"\n",
    "            \n",
    "            f\"### QUESTION ###\\n{question}\\n\\n\"\n",
    "            \n",
    "        )\n",
    "\n",
    "    messages = [\n",
    "        {\"role\": \"system\", \"content\": CHATBOT_SYSTEM_PROMPT},\n",
    "        {\"role\": \"user\", \"content\": user_prompt}\n",
    "    ]\n",
    "\n",
    "    \n",
    "    response = llm.invoke(messages)\n",
    "    # state.wiki_response = response\n",
    "    # return state\n",
    "    return response"
   ]
  },
  {
   "cell_type": "code",
   "execution_count": 48,
   "id": "28066b10",
   "metadata": {},
   "outputs": [
    {
     "name": "stdout",
     "output_type": "stream",
     "text": [
      "Hello! 👋 I'm Shopping Assistant, here to help you find what you're looking for.  \n",
      "\n",
      "I can answer your questions, tell you interesting facts, or even give you ideas for products you might like. \n",
      "\n",
      "If you have a specific item in mind, you can upload a photo or ask me about it.  \n",
      "\n",
      "What can I do for you today? 😊  \n",
      "\n",
      "\n"
     ]
    }
   ],
   "source": [
    "print(chatbot_node(\"hi\").content)"
   ]
  },
  {
   "cell_type": "code",
   "execution_count": null,
   "id": "594450a3",
   "metadata": {},
   "outputs": [],
   "source": []
  },
  {
   "cell_type": "code",
   "execution_count": 49,
   "id": "285a16ff",
   "metadata": {},
   "outputs": [
    {
     "name": "stdout",
     "output_type": "stream",
     "text": [
      "Hey there! I'm Shopping Assistant, and I'm here to make your shopping experience a breeze. \n",
      "\n",
      "I can help you find all sorts of things by answering your questions, giving you interesting facts, or even suggesting products based on what you're looking for.  \n",
      "\n",
      "Want to know more about a specific item? You can always ask me about it, or even upload a picture if you have one!  \n",
      "\n",
      "What can I do for you today? 😊 \n",
      "\n",
      "\n"
     ]
    }
   ],
   "source": [
    "print(chatbot_node(\"what can you do\").content)\n"
   ]
  },
  {
   "cell_type": "code",
   "execution_count": 50,
   "id": "79625c4c",
   "metadata": {},
   "outputs": [
    {
     "name": "stdout",
     "output_type": "stream",
     "text": [
      "That's great! I'm here to help make your shopping experience easier and more enjoyable. \n",
      "\n",
      "Would you like to tell me what you're looking for? Or maybe you have a picture of something you'd like to find? I can also give you recommendations based on your interests if you'd like. \n",
      "\n",
      "Just let me know how I can assist you! 😊  \n",
      "\n",
      "\n"
     ]
    }
   ],
   "source": [
    "print(chatbot_node(\"i want to do shopping\").content)\n"
   ]
  },
  {
   "cell_type": "code",
   "execution_count": null,
   "id": "deee933b",
   "metadata": {},
   "outputs": [],
   "source": []
  },
  {
   "cell_type": "code",
   "execution_count": 22,
   "id": "8d33e190",
   "metadata": {},
   "outputs": [],
   "source": [
    "from langchain_community.tools.tavily_search import TavilySearchResults\n",
    "from langchain_community.tools import DuckDuckGoSearchResults\n",
    "\n",
    "def scraping_node_tav(inp):             \n",
    "    tav_tool = TavilySearchResults(max_results=10)\n",
    "    search = DuckDuckGoSearchResults()\n",
    "\n",
    "    search.invoke(\"Obama\")\n",
    "    query = f\"{inp} amazon flipkart official website\" \n",
    "    res = tav_tool.invoke(query)\n",
    "    \n",
    "    return res"
   ]
  },
  {
   "cell_type": "code",
   "execution_count": null,
   "id": "13c6ff14",
   "metadata": {},
   "outputs": [
    {
     "data": {
      "text/plain": [
       "[{'url': 'https://www.amazon.in/nike-t-shirts-for-men/b?ie=UTF8&node=13678346031',\n",
       "  'content': 'Missing: flipkart website'},\n",
       " {'url': 'https://www.flipkart.com/clothing-and-accessories/topwear/tshirts/nike~brand/pr?sid=clo%2Cash%2Cank',\n",
       "  'content': 'NIKE. Dri-FIT Men Printed V Neck Polyester White T-Shirt. 1,995. ₹1,197. 40% off. NIKE. Men Printed Round Neck Pure Cotton White T-Shirt. 1,795. ₹1,436. 20% off.'},\n",
       " {'url': 'https://www.nike.com/in/w/mens-sale-tops-t-shirts-3yaepz9om13znik1',\n",
       "  'content': 'Missing: amazon flipkart'},\n",
       " {'url': 'https://www.flipkart.com/mens-tshirts/nike~brand/pr?sid=clo%2Cash%2Cank%2Cedy',\n",
       "  'content': 'There is a wide range of Nike T-shirts men can choose from, for a combination of comfort and style. You can choose any design and colour as per your preference.'},\n",
       " {'url': 'https://www.flipkart.com/nike-india-jersey-printed-men-polo-neck-blue-t-shirt/p/itmfd3g5hke3zekj?pid=TSHFD3G5GNAZY2CV&cmpid=product.share.pp&_refId=PP.bc49203a-c39c-45ba-b16c-9a07cbc59709.TSHFD3G5GNAZY2CV&lid=LSTTSHFD3G5GNAZY2CVXDCLYY',\n",
       "  'content': 'NIKE India Jersey Printed Men Polo Neck Blue T-Shirt - Buy NIKE India Jersey Printed Men Polo Neck Blue T-Shirt For Only Rs. 3995 Online in India.'},\n",
       " {'url': 'https://www.nike.com/w/mens-sale-tops-t-shirts-3yaepz9om13znik1',\n",
       "  'content': 'Español\\n\\nSweden\\n\\nEnglish\\n\\nSverige\\n\\nSvenska\\n\\nSchweiz\\n\\nDeutsch\\n\\nSwitzerland\\n\\nEnglish\\n\\nSuisse\\n\\nFrançais\\n\\nSvizzera\\n\\nItaliano\\n\\nTürkiye\\n\\nTürkçe\\n\\nUnited Kingdom\\n\\nEnglish\\n\\nMiddle East\\n\\nSaudi Arabia\\n\\nEnglish\\n\\nالمملكة العربية السعودية\\n\\nالعربية\\n\\nUnited Arab Emirates\\n\\nEnglish\\n\\nالإمارات العربية المتحدة\\n\\nالعربية\\n\\nQatar\\n\\nEnglish\\n\\nدولة قطر\\n\\nالعربية\\n\\nKuwait\\n\\nEnglish\\n\\nالكويت\\n\\nالعربية [...] Español\\n\\nAsia Pacific\\n\\nAustralia\\n\\nEnglish\\n\\n中国大陆\\n\\n简体中文\\n\\nHong Kong\\n\\nEnglish\\n\\n香港\\n\\n繁體中文\\n\\nIndia\\n\\nEnglish\\n\\nIndonesia\\n\\nEnglish\\n\\nJapan\\n\\nEnglish\\n\\n日本\\n\\n日本語\\n\\n대한민국\\n\\n한국어\\n\\nMalaysia\\n\\nEnglish\\n\\nNew Zealand\\n\\nEnglish\\n\\nPhilippines\\n\\nEnglish\\n\\nSingapore\\n\\nEnglish\\n\\n台灣\\n\\n繁體中文\\n\\nไทย\\n\\nภาษาไทย\\n\\nVietnam\\n\\nEnglish\\n\\nEurope\\n\\nÖsterreich\\n\\nDeutsch\\n\\nAustria\\n\\nEnglish\\n\\nBelgien\\n\\nDeutsch\\n\\nBelgium\\n\\nEnglish\\n\\nBelgique\\n\\nFrançais\\n\\nBelgië\\n\\nNederlands\\n\\nBulgaria\\n\\nEnglish\\n\\nCroatia\\n\\nEnglish\\n\\nČeská republika\\n\\nČeština\\n\\nCzech Republic\\n\\nEnglish [...] Popular Search Terms\\n\\n\\n\\nShop All Sale\\n\\nNew Markdown\\n\\nNew Markdown\\n\\nNew Markdown\\n\\nNew Markdown\\n\\nResources\\n\\nGift Cards\\n\\nFind a Store\\n\\nMembership\\n\\nNike Journal\\n\\nSite Feedback\\n\\nHelp\\n\\nGet Help\\n\\nOrder Status\\n\\nShipping and Delivery\\n\\nReturns\\n\\nOrder Cancellation\\n\\nPayment Options\\n\\nGift Card Balance\\n\\nContact Us\\n\\nCompany\\n\\nAbout Nike\\n\\nNews\\n\\nCareers\\n\\nInvestors\\n\\nPurpose\\n\\nSustainability\\n\\nPromotions & Discounts\\n\\nStudent\\n\\nMilitary\\n\\nTeacher\\n\\nFirst Responders & Medical Professionals\\n\\nBirthday\\n\\nResources'},\n",
       " {'url': 'https://www.nike.com/w/mens-graphic-t-shirts-5shrvznik1',\n",
       "  'content': 'Schweiz\\n\\nDeutsch\\n\\nSwitzerland\\n\\nEnglish\\n\\nSuisse\\n\\nFrançais\\n\\nSvizzera\\n\\nItaliano\\n\\nTürkiye\\n\\nTürkçe\\n\\nUnited Kingdom\\n\\nEnglish\\n\\nMiddle East\\n\\nSaudi Arabia\\n\\nEnglish\\n\\nالمملكة العربية السعودية\\n\\nالعربية\\n\\nUnited Arab Emirates\\n\\nEnglish\\n\\nالإمارات العربية المتحدة\\n\\nالعربية\\n\\nQatar\\n\\nEnglish\\n\\nدولة قطر\\n\\nالعربية\\n\\nKuwait\\n\\nEnglish\\n\\nالكويت\\n\\nالعربية [...] Find a Store\\n\\nHelp\\n\\nHelp\\n\\nOrder Status\\n\\nShipping & Delivery\\n\\nReturns\\n\\nOrder Cancellation\\n\\nSize Charts\\n\\nContact Us\\n\\nMembership\\n\\nPromotions & Discounts\\n\\nProduct Advice\\n\\nSend Us Feedback\\n\\nJoin Us\\n\\nSign In\\n\\nFeatured\\n\\nNew Arrivals\\n\\nBest Sellers\\n\\nLatest Drops\\n\\nMothers Day Shop\\n\\nSNKRS Launch Calendar\\n\\nShop All Sale\\n\\nShop New\\n\\nMen\\n\\nWomen\\n\\nKids\\n\\nShop All\\n\\nTrending\\n\\n24.7 Collection\\n\\nNike Style By\\n\\nACG Essentials\\n\\nStyle Your Air\\n\\nRunning Shoe Finder\\n\\nFeatured\\n\\nNew Arrivals\\n\\nBest Sellers\\n\\nLatest Drops [...] Nike Journal\\n\\nSite Feedback\\n\\nHelp\\n\\nGet Help\\n\\nOrder Status\\n\\nShipping and Delivery\\n\\nReturns\\n\\nOrder Cancellation\\n\\nPayment Options\\n\\nGift Card Balance\\n\\nContact Us\\n\\nCompany\\n\\nAbout Nike\\n\\nNews\\n\\nCareers\\n\\nInvestors\\n\\nPurpose\\n\\nSustainability\\n\\nPromotions & Discounts\\n\\nStudent\\n\\nMilitary\\n\\nTeacher\\n\\nFirst Responders & Medical Professionals\\n\\nBirthday\\n\\n© 2025 Nike, Inc. All Rights Reserved\\n\\nGuides\\n\\nNike Air\\n\\nNike Air Force 1\\n\\nNike Air Max\\n\\nNike FlyEase\\n\\nNike Flyknit\\n\\nNike Free\\n\\nNike React\\n\\nNike Vaporfly'},\n",
       " {'url': 'https://www.nike.com/in/w/mens-nike-pro-tops-t-shirts-3cqxfz9om13znik1',\n",
       "  'content': \"Accessories and Equipment\\n\\nShop By Sports\\n\\nFootball\\n\\nRunning\\n\\nBasketball\\n\\nGym and Training\\n\\nTennis\\n\\nPopular Search Terms\\n\\n\\n\\nMen's Nike Pro Tops & T-Shirts\\n\\nResources\\n\\nFind A Store\\n\\nBecome A Member\\n\\nRunning Shoe Finder\\n\\nProduct Advice\\n\\nSend Us Feedback\\n\\nHelp\\n\\nGet Help\\n\\nOrder Status\\n\\nDelivery\\n\\nReturns\\n\\nPayment Options\\n\\nContact Us On Nike.com Inquiries\\n\\nContact Us On All Other Inquiries\\n\\nCompany\\n\\nAbout Nike\\n\\nNews\\n\\nCareers\\n\\nInvestors\\n\\nSustainability\\n\\nReport a Concern\\n\\nResources\\n\\nFind A Store [...] Ελλάδα\\n\\nελληνικά\\n\\nHungary\\n\\nEnglish\\n\\nMagyarország\\n\\nMagyar\\n\\nIreland\\n\\nEnglish\\n\\nIsrael\\n\\nEnglish\\n\\nItalia\\n\\nItaliano\\n\\nLuxemburg\\n\\nDeutsch\\n\\nLuxembourg\\n\\nEnglish\\n\\nLuxembourg\\n\\nFrançais\\n\\nNetherlands\\n\\nEnglish\\n\\nNederland\\n\\nNederlands\\n\\nNorway\\n\\nEnglish\\n\\nNorge\\n\\nNorsk\\n\\nPolska\\n\\nPolski\\n\\nPortugal\\n\\nEnglish\\n\\nPortugal\\n\\nPortuguês\\n\\nRomania\\n\\nEnglish\\n\\nРоссия\\n\\nРусский\\n\\nSlovakia\\n\\nEnglish\\n\\nSlovenia\\n\\nEnglish\\n\\nEspanya\\n\\nCatalà\\n\\nEspaña\\n\\nEspañol\\n\\nSweden\\n\\nEnglish\\n\\nSverige\\n\\nSvenska\\n\\nSchweiz\\n\\nDeutsch\\n\\nSwitzerland\\n\\nEnglish\\n\\nSuisse [...] Français\\n\\nSvizzera\\n\\nItaliano\\n\\nTürkiye\\n\\nTürkçe\\n\\nUnited Kingdom\\n\\nEnglish\\n\\nMiddle East\\n\\nSaudi Arabia\\n\\nEnglish\\n\\nالمملكة العربية السعودية\\n\\nالعربية\\n\\nUnited Arab Emirates\\n\\nEnglish\\n\\nالإمارات العربية المتحدة\\n\\nالعربية\\n\\nQatar\\n\\nEnglish\\n\\nدولة قطر\\n\\nالعربية\\n\\nKuwait\\n\\nEnglish\\n\\nالكويت\\n\\nالعربية\"},\n",
       " {'url': 'https://www.nike.com/w/mens-tops-t-shirts-9om13znik1',\n",
       "  'content': 'Find a Store\\n\\nHelp\\n\\nHelp\\n\\nOrder Status\\n\\nShipping & Delivery\\n\\nReturns\\n\\nOrder Cancellation\\n\\nSize Charts\\n\\nContact Us\\n\\nMembership\\n\\nPromotions & Discounts\\n\\nProduct Advice\\n\\nSend Us Feedback\\n\\nJoin Us\\n\\nSign In\\n\\nFeatured\\n\\nNew Arrivals\\n\\nBest Sellers\\n\\nLatest Drops\\n\\nMothers Day Shop\\n\\nSNKRS Launch Calendar\\n\\nShop All Sale\\n\\nShop New\\n\\nMen\\n\\nWomen\\n\\nKids\\n\\nShop All\\n\\nTrending\\n\\n24.7 Collection\\n\\nNike Style By\\n\\nACG Essentials\\n\\nStyle Your Air\\n\\nRunning Shoe Finder\\n\\nFeatured\\n\\nNew Arrivals\\n\\nBest Sellers\\n\\nLatest Drops [...] Nike Style By\\n\\nSpring Essentials\\n\\nShop All Sale\\n\\nShop by Color\\n\\nBlue\\n\\nPeach\\n\\nPurple\\n\\nNeon\\n\\nNeutral\\n\\nShoes\\n\\nAll Shoes\\n\\nBasketball\\n\\nLifestyle\\n\\nJordan\\n\\nRetro Running\\n\\nRunning\\n\\nSandals & Slides\\n\\nShoes $100 & Under\\n\\nTraining & Gym\\n\\nClothing\\n\\nAll Clothing\\n\\nBras\\n\\nHoodies & Sweatshirts\\n\\nLeggings\\n\\nMatching Sets\\n\\nJackets & Vests\\n\\nPants\\n\\nSkirts & Dresses\\n\\nShorts\\n\\nTops & T-Shirts\\n\\n24.7 Collection\\n\\nAccessories\\n\\nBags & Backpacks\\n\\nHats & Headwear\\n\\nSocks\\n\\nSunglasses\\n\\nBelts\\n\\nFeatured\\n\\nNew Arrivals [...] Popular Search Terms\\n\\n\\n\\nMens Tops and T-Shirts\\n\\nSee Price in Bag\\n\\nResources\\n\\nGift Cards\\n\\nFind a Store\\n\\nMembership\\n\\nNike Journal\\n\\nSite Feedback\\n\\nHelp\\n\\nGet Help\\n\\nOrder Status\\n\\nShipping and Delivery\\n\\nReturns\\n\\nOrder Cancellation\\n\\nPayment Options\\n\\nGift Card Balance\\n\\nContact Us\\n\\nCompany\\n\\nAbout Nike\\n\\nNews\\n\\nCareers\\n\\nInvestors\\n\\nPurpose\\n\\nSustainability\\n\\nPromotions & Discounts\\n\\nStudent\\n\\nMilitary\\n\\nTeacher\\n\\nFirst Responders & Medical Professionals\\n\\nBirthday\\n\\nResources\\n\\nGift Cards\\n\\nFind a Store\\n\\nMembership'},\n",
       " {'url': 'https://www.nike.com/w/womens-tops-t-shirts-5e1x6z9om13',\n",
       "  'content': 'Find a Store\\n\\nHelp\\n\\nHelp\\n\\nOrder Status\\n\\nShipping & Delivery\\n\\nReturns\\n\\nOrder Cancellation\\n\\nSize Charts\\n\\nContact Us\\n\\nMembership\\n\\nPromotions & Discounts\\n\\nProduct Advice\\n\\nSend Us Feedback\\n\\nJoin Us\\n\\nSign In\\n\\nFeatured\\n\\nNew Arrivals\\n\\nBest Sellers\\n\\nLatest Drops\\n\\nMothers Day Shop\\n\\nSNKRS Launch Calendar\\n\\nShop All Sale\\n\\nShop New\\n\\nMen\\n\\nWomen\\n\\nKids\\n\\nShop All\\n\\nTrending\\n\\n24.7 Collection\\n\\nNike Style By\\n\\nACG Essentials\\n\\nStyle Your Air\\n\\nRunning Shoe Finder\\n\\nFeatured\\n\\nNew Arrivals\\n\\nBest Sellers\\n\\nLatest Drops [...] Best Sellers\\n\\nLatest Drops\\n\\nMothers Day Shop\\n\\nStyle Your Air\\n\\nSpring Essentials\\n\\nShop All Sale\\n\\nShop By Sport\\n\\nGymnastics\\n\\nBasketball\\n\\nFootball\\n\\nRunning\\n\\nSoccer\\n\\nAll Shoes\\n\\nBasketball\\n\\nLifestyle\\n\\nJordan\\n\\nRetro Running\\n\\nRunning\\n\\nSandals & Slides\\n\\nSoccer\\n\\nAll Clothing\\n\\nBras\\n\\nHoodies & Sweatshirts\\n\\nJordan\\n\\nMatching Sets\\n\\nJackets & Vests\\n\\nPants & Tights\\n\\nShorts\\n\\nTops & T-Shirts\\n\\nShop by Age\\n\\nTeen\\n\\nBig Kids (7-15 yrs)\\n\\nLittle Kids (3-7 yrs)\\n\\nBaby & Toddler (0-3 yrs)\\n\\nAccessories\\n\\nBags & Backpacks [...] Nike Style By\\n\\nSpring Essentials\\n\\nShop All Sale\\n\\nShop by Color\\n\\nBlue\\n\\nPeach\\n\\nPurple\\n\\nNeon\\n\\nNeutral\\n\\nShoes\\n\\nAll Shoes\\n\\nBasketball\\n\\nLifestyle\\n\\nJordan\\n\\nRetro Running\\n\\nRunning\\n\\nSandals & Slides\\n\\nShoes $100 & Under\\n\\nTraining & Gym\\n\\nClothing\\n\\nAll Clothing\\n\\nBras\\n\\nHoodies & Sweatshirts\\n\\nLeggings\\n\\nMatching Sets\\n\\nJackets & Vests\\n\\nPants\\n\\nSkirts & Dresses\\n\\nShorts\\n\\nTops & T-Shirts\\n\\n24.7 Collection\\n\\nAccessories\\n\\nBags & Backpacks\\n\\nHats & Headwear\\n\\nSocks\\n\\nSunglasses\\n\\nBelts\\n\\nFeatured\\n\\nNew Arrivals'}]"
      ]
     },
     "execution_count": 18,
     "metadata": {},
     "output_type": "execute_result"
    }
   ],
   "source": [
    "scraping_node_tav(\"nike tshirt\")"
   ]
  },
  {
   "cell_type": "code",
   "execution_count": 3,
   "id": "9e01d8d5",
   "metadata": {},
   "outputs": [],
   "source": [
    "from langchain_community.tools import DuckDuckGoSearchResults\n",
    "\n",
    "\n",
    "\n",
    "def scraping_node_duck(inp):             \n",
    "    search = DuckDuckGoSearchResults()\n",
    "\n",
    "    query = f\"{inp} amazon flipkart official website\" \n",
    "    res = search.invoke(query)\n",
    "    \n",
    "    return res"
   ]
  },
  {
   "cell_type": "code",
   "execution_count": 4,
   "id": "f26daecb",
   "metadata": {},
   "outputs": [],
   "source": [
    "duck =scraping_node_duck(\"nike tshirt\")"
   ]
  },
  {
   "cell_type": "code",
   "execution_count": 5,
   "id": "3e6387a6",
   "metadata": {},
   "outputs": [
    {
     "data": {
      "text/plain": [
       "\"snippet: Nike Tshirts - Buy Nike Tshirts at India's Best Online Shopping Store. Check Price in India and Shop Online. ✔ Free Shipping ✔ Cash on Delivery ✔ Best Offers - Free Home Delivery & Cash on Delivery at Flipkart.com, title: Nike Tshirts - Buy Nike Tshirts @Upto 40%Off Online at Best ... - Flipkart, link: https://www.flipkart.com/men/tshirts/nike~brand/pr?sid=2oq,s9b,j9y&page=1, snippet: Shop for electronics, apparels & more using our Flipkart app Free shipping & COD. Tshirts - Shop Tshirts at India's Best Online Shopping Store. Check Price and Buy Online. Free Shipping Cash on Delivery Best Offers ... More. Cart. Textured Shirts, Tees... Min. 60% Off + Extra 15% Off. Filters. CATEGORIES. Clothing and Accessories. Topwear. T ..., title: Buy Tshirts Online at Best Prices In India - Flipkart.com, link: https://www.flipkart.com/clothing-and-accessories/topwear/tshirts/pr?sid=clo,ash,ank&q=nike+shirt+for+men, snippet: If yes, then they are authentic. Flipkart/Myntra/Ajio are official retail sellers of these brands. But you won't find all the variants on these sites. For example, you can't find Flipkart's retailer selling a Nike airforce 1, same with GAP, Superdry. If you still have doubts, buy the same shoe from the official online store as well as on Flipkart., title: Are these items on Flipkart legit? : r/IndianFashionAddicts - Reddit, link: https://www.reddit.com/r/IndianFashionAddicts/comments/1cq0g9y/are_these_items_on_flipkart_legit/, snippet: 8.5K subscribers in the SneakersIndia community. Sneakers India. Welcome to r/scams. This is an educational subreddit focused on scams. It is our hope to be a wealth of knowledge for people wanting to educate themselves, find support, and discover ways to help a friend or loved one who may be a victim of a scam., title: Is NikeIndiaPvtLtd a legit seller on Flipkart? : r/SneakersIndia - Reddit, link: https://www.reddit.com/r/SneakersIndia/comments/1cozalg/is_nikeindiapvtltd_a_legit_seller_on_flipkart/\""
      ]
     },
     "execution_count": 5,
     "metadata": {},
     "output_type": "execute_result"
    }
   ],
   "source": [
    "duck"
   ]
  },
  {
   "cell_type": "code",
   "execution_count": 7,
   "id": "a76d6fd7",
   "metadata": {},
   "outputs": [
    {
     "name": "stdout",
     "output_type": "stream",
     "text": [
      "Result 1:\n",
      "Title: Nike Tshirts - Buy Nike Tshirts @Upto 40%Off Online at Best ... - Flipkart\n",
      "Snippet: Nike Tshirts - Buy Nike Tshirts at India's Best Online Shopping Store. Check Price in India and Shop Online. ✔ Free Shipping ✔ Cash on Delivery ✔ Best Offers - Free Home Delivery & Cash on Delivery at Flipkart.com\n",
      "Link: https://www.flipkart.com/men/tshirts/nike~brand/pr?sid=2oq,s9b,j9y&page=1,\n",
      "\n",
      "Result 2:\n",
      "Title: Buy Tshirts Online at Best Prices In India - Flipkart.com\n",
      "Snippet: Shop for electronics, apparels & more using our Flipkart app Free shipping & COD. Tshirts - Shop Tshirts at India's Best Online Shopping Store. Check Price and Buy Online. Free Shipping Cash on Delivery Best Offers ... More. Cart. Textured Shirts, Tees... Min. 60% Off + Extra 15% Off. Filters. CATEGORIES. Clothing and Accessories. Topwear. T ...\n",
      "Link: https://www.flipkart.com/clothing-and-accessories/topwear/tshirts/pr?sid=clo,ash,ank&q=nike+shirt+for+men,\n",
      "\n",
      "Result 3:\n",
      "Title: Are these items on Flipkart legit? : r/IndianFashionAddicts - Reddit\n",
      "Snippet: If yes, then they are authentic. Flipkart/Myntra/Ajio are official retail sellers of these brands. But you won't find all the variants on these sites. For example, you can't find Flipkart's retailer selling a Nike airforce 1, same with GAP, Superdry. If you still have doubts, buy the same shoe from the official online store as well as on Flipkart.\n",
      "Link: https://www.reddit.com/r/IndianFashionAddicts/comments/1cq0g9y/are_these_items_on_flipkart_legit/,\n",
      "\n",
      "Result 4:\n",
      "Title: Is NikeIndiaPvtLtd a legit seller on Flipkart? : r/SneakersIndia - Reddit\n",
      "Snippet: 8.5K subscribers in the SneakersIndia community. Sneakers India. Welcome to r/scams. This is an educational subreddit focused on scams. It is our hope to be a wealth of knowledge for people wanting to educate themselves, find support, and discover ways to help a friend or loved one who may be a victim of a scam.\n",
      "Link: https://www.reddit.com/r/SneakersIndia/comments/1cozalg/is_nikeindiapvtltd_a_legit_seller_on_flipkart/\n",
      "\n"
     ]
    }
   ],
   "source": [
    "import re\n",
    "\n",
    "\n",
    "# Extracting details using regex\n",
    "entries = re.split(r'(?=snippet:)', duck)\n",
    "\n",
    "results = []\n",
    "\n",
    "for entry in entries:\n",
    "    snippet_match = re.search(r'snippet:\\s*(.*?)(?=,\\s*title:)', entry, re.DOTALL)\n",
    "    title_match = re.search(r'title:\\s*(.*?)(?=,\\s*link:)', entry, re.DOTALL)\n",
    "    link_match = re.search(r'link:\\s*(https?://\\S+)', entry, re.DOTALL)\n",
    "\n",
    "    if snippet_match and title_match and link_match:\n",
    "        results.append({\n",
    "            \"snippet\": snippet_match.group(1).strip(),\n",
    "            \"title\": title_match.group(1).strip(),\n",
    "            \"link\": link_match.group(1).strip()\n",
    "        })\n",
    "\n",
    "# Display the cleaned and structured data\n",
    "for i, result in enumerate(results, 1):\n",
    "    print(f\"Result {i}:\")\n",
    "    print(f\"Title: {result['title']}\")\n",
    "    print(f\"Snippet: {result['snippet']}\")\n",
    "    print(f\"Link: {result['link']}\\n\")"
   ]
  },
  {
   "cell_type": "code",
   "execution_count": 1,
   "id": "6fcf2183",
   "metadata": {},
   "outputs": [
    {
     "name": "stdout",
     "output_type": "stream",
     "text": [
      "Requirement already satisfied: langgraph in c:\\anaconda3\\envs\\gen_env\\lib\\site-packages (0.3.34)\n",
      "Requirement already satisfied: langchain-core<0.4,>=0.1 in c:\\anaconda3\\envs\\gen_env\\lib\\site-packages (from langgraph) (0.3.56)\n",
      "Requirement already satisfied: langgraph-checkpoint<3.0.0,>=2.0.10 in c:\\anaconda3\\envs\\gen_env\\lib\\site-packages (from langgraph) (2.0.24)\n",
      "Requirement already satisfied: langgraph-prebuilt<0.2,>=0.1.8 in c:\\anaconda3\\envs\\gen_env\\lib\\site-packages (from langgraph) (0.1.8)\n",
      "Requirement already satisfied: langgraph-sdk<0.2.0,>=0.1.42 in c:\\anaconda3\\envs\\gen_env\\lib\\site-packages (from langgraph) (0.1.63)\n",
      "Requirement already satisfied: xxhash<4.0.0,>=3.5.0 in c:\\anaconda3\\envs\\gen_env\\lib\\site-packages (from langgraph) (3.5.0)\n",
      "Requirement already satisfied: langsmith<0.4,>=0.1.125 in c:\\anaconda3\\envs\\gen_env\\lib\\site-packages (from langchain-core<0.4,>=0.1->langgraph) (0.3.37)\n",
      "Requirement already satisfied: tenacity!=8.4.0,<10.0.0,>=8.1.0 in c:\\anaconda3\\envs\\gen_env\\lib\\site-packages (from langchain-core<0.4,>=0.1->langgraph) (9.1.2)\n",
      "Requirement already satisfied: jsonpatch<2.0,>=1.33 in c:\\anaconda3\\envs\\gen_env\\lib\\site-packages (from langchain-core<0.4,>=0.1->langgraph) (1.33)\n",
      "Requirement already satisfied: PyYAML>=5.3 in c:\\anaconda3\\envs\\gen_env\\lib\\site-packages (from langchain-core<0.4,>=0.1->langgraph) (6.0.2)\n",
      "Requirement already satisfied: packaging<25,>=23.2 in c:\\anaconda3\\envs\\gen_env\\lib\\site-packages (from langchain-core<0.4,>=0.1->langgraph) (24.2)\n",
      "Requirement already satisfied: typing-extensions>=4.7 in c:\\anaconda3\\envs\\gen_env\\lib\\site-packages (from langchain-core<0.4,>=0.1->langgraph) (4.13.2)\n",
      "Requirement already satisfied: pydantic<3.0.0,>=2.5.2 in c:\\anaconda3\\envs\\gen_env\\lib\\site-packages (from langchain-core<0.4,>=0.1->langgraph) (2.11.3)\n",
      "Requirement already satisfied: ormsgpack<2.0.0,>=1.8.0 in c:\\anaconda3\\envs\\gen_env\\lib\\site-packages (from langgraph-checkpoint<3.0.0,>=2.0.10->langgraph) (1.9.1)\n",
      "Requirement already satisfied: httpx>=0.25.2 in c:\\anaconda3\\envs\\gen_env\\lib\\site-packages (from langgraph-sdk<0.2.0,>=0.1.42->langgraph) (0.28.1)\n",
      "Requirement already satisfied: orjson>=3.10.1 in c:\\anaconda3\\envs\\gen_env\\lib\\site-packages (from langgraph-sdk<0.2.0,>=0.1.42->langgraph) (3.10.16)\n",
      "Requirement already satisfied: anyio in c:\\anaconda3\\envs\\gen_env\\lib\\site-packages (from httpx>=0.25.2->langgraph-sdk<0.2.0,>=0.1.42->langgraph) (4.9.0)\n",
      "Requirement already satisfied: certifi in c:\\anaconda3\\envs\\gen_env\\lib\\site-packages (from httpx>=0.25.2->langgraph-sdk<0.2.0,>=0.1.42->langgraph) (2025.4.26)\n",
      "Requirement already satisfied: httpcore==1.* in c:\\anaconda3\\envs\\gen_env\\lib\\site-packages (from httpx>=0.25.2->langgraph-sdk<0.2.0,>=0.1.42->langgraph) (1.0.9)\n",
      "Requirement already satisfied: idna in c:\\anaconda3\\envs\\gen_env\\lib\\site-packages (from httpx>=0.25.2->langgraph-sdk<0.2.0,>=0.1.42->langgraph) (3.10)\n",
      "Requirement already satisfied: h11>=0.16 in c:\\anaconda3\\envs\\gen_env\\lib\\site-packages (from httpcore==1.*->httpx>=0.25.2->langgraph-sdk<0.2.0,>=0.1.42->langgraph) (0.16.0)\n",
      "Requirement already satisfied: jsonpointer>=1.9 in c:\\anaconda3\\envs\\gen_env\\lib\\site-packages (from jsonpatch<2.0,>=1.33->langchain-core<0.4,>=0.1->langgraph) (3.0.0)\n",
      "Requirement already satisfied: requests<3,>=2 in c:\\anaconda3\\envs\\gen_env\\lib\\site-packages (from langsmith<0.4,>=0.1.125->langchain-core<0.4,>=0.1->langgraph) (2.32.3)\n",
      "Requirement already satisfied: requests-toolbelt<2.0.0,>=1.0.0 in c:\\anaconda3\\envs\\gen_env\\lib\\site-packages (from langsmith<0.4,>=0.1.125->langchain-core<0.4,>=0.1->langgraph) (1.0.0)\n",
      "Requirement already satisfied: zstandard<0.24.0,>=0.23.0 in c:\\anaconda3\\envs\\gen_env\\lib\\site-packages (from langsmith<0.4,>=0.1.125->langchain-core<0.4,>=0.1->langgraph) (0.23.0)\n",
      "Requirement already satisfied: annotated-types>=0.6.0 in c:\\anaconda3\\envs\\gen_env\\lib\\site-packages (from pydantic<3.0.0,>=2.5.2->langchain-core<0.4,>=0.1->langgraph) (0.7.0)\n",
      "Requirement already satisfied: pydantic-core==2.33.1 in c:\\anaconda3\\envs\\gen_env\\lib\\site-packages (from pydantic<3.0.0,>=2.5.2->langchain-core<0.4,>=0.1->langgraph) (2.33.1)\n",
      "Requirement already satisfied: typing-inspection>=0.4.0 in c:\\anaconda3\\envs\\gen_env\\lib\\site-packages (from pydantic<3.0.0,>=2.5.2->langchain-core<0.4,>=0.1->langgraph) (0.4.0)\n",
      "Requirement already satisfied: charset-normalizer<4,>=2 in c:\\anaconda3\\envs\\gen_env\\lib\\site-packages (from requests<3,>=2->langsmith<0.4,>=0.1.125->langchain-core<0.4,>=0.1->langgraph) (3.4.1)\n",
      "Requirement already satisfied: urllib3<3,>=1.21.1 in c:\\anaconda3\\envs\\gen_env\\lib\\site-packages (from requests<3,>=2->langsmith<0.4,>=0.1.125->langchain-core<0.4,>=0.1->langgraph) (2.4.0)\n",
      "Requirement already satisfied: exceptiongroup>=1.0.2 in c:\\anaconda3\\envs\\gen_env\\lib\\site-packages (from anyio->httpx>=0.25.2->langgraph-sdk<0.2.0,>=0.1.42->langgraph) (1.2.2)\n",
      "Requirement already satisfied: sniffio>=1.1 in c:\\anaconda3\\envs\\gen_env\\lib\\site-packages (from anyio->httpx>=0.25.2->langgraph-sdk<0.2.0,>=0.1.42->langgraph) (1.3.1)\n"
     ]
    }
   ],
   "source": [
    "!pip install langgraph\n"
   ]
  },
  {
   "cell_type": "code",
   "execution_count": null,
   "id": "283a47b1",
   "metadata": {},
   "outputs": [],
   "source": []
  },
  {
   "cell_type": "code",
   "execution_count": 10,
   "id": "0191ad3d",
   "metadata": {},
   "outputs": [],
   "source": [
    "from langgraph.graph import StateGraph, START, END\n",
    "\n",
    "def injection_node():\n",
    "    pass\n",
    "\n",
    "def message_to_memory():\n",
    "    pass\n",
    "\n",
    "def vision_node():\n",
    "    pass\n",
    "\n",
    "def router_node():\n",
    "    pass\n",
    "def context_node():\n",
    "    pass\n",
    "def wiki_chatbot_node():\n",
    "    pass\n",
    "def chatbot_node():\n",
    "    pass\n",
    "def scraping_node_tav():\n",
    "    pass\n",
    "\n",
    "def wiki_node():\n",
    "    pass\n",
    "\n",
    "def input_decide_edge(self, state: State) -> Literal[\"vision_node\", \"injection_node\"]:\n",
    "\n",
    "    pass\n",
    "def workflow_edge(self, state: State) -> Literal[\"context_node\", \"scraping_node_tav\", \"chatbot_node\"]:\n",
    "    pass\n",
    "def context_decide_edge(self, state: State) -> Literal[\"wiki_node\", \"message_to_memory\"]:\n",
    "    pass\n",
    "\n",
    "def wiki_decide_edge(self, state: State) -> Literal[\"wiki_chatbot_node\", \"message_to_memory\"]:\n",
    "    pass\n",
    "graph_builder = StateGraph(State)\n",
    "\n",
    "graph_builder.add_node(\"vision_node\", vision_node)\n",
    "graph_builder.add_node(\"injection_node\", injection_node)\n",
    "graph_builder.add_node(\"router_node\", router_node)\n",
    "graph_builder.add_node(\"context_node\", context_node)\n",
    "graph_builder.add_node(\"wiki_node\", wiki_node)\n",
    "graph_builder.add_node(\"wiki_chatbot_node\", wiki_chatbot_node)\n",
    "graph_builder.add_node(\"chatbot_node\", chatbot_node)\n",
    "graph_builder.add_node(\"scraping_node_tav\", scraping_node_tav)\n",
    "graph_builder.add_node(\"message_to_memory\", message_to_memory)\n",
    "\n",
    "\n",
    "# Add edges\n",
    "graph_builder.add_conditional_edges(START, input_decide_edge)\n",
    "graph_builder.add_edge(\"vision_node\",\"router_node\")\n",
    "graph_builder.add_edge(\"injection_node\", \"router_node\")\n",
    "graph_builder.add_conditional_edges(\"router_node\", workflow_edge)\n",
    "graph_builder.add_conditional_edges(\"context_node\", context_decide_edge)\n",
    "graph_builder.add_conditional_edges(\"wiki_node\", wiki_decide_edge)\n",
    "graph_builder.add_edge(\"wiki_chatbot_node\", \"message_to_memory\")\n",
    "graph_builder.add_edge(\"message_to_memory\", END)\n",
    "\n",
    "graph = graph_builder.compile()"
   ]
  },
  {
   "cell_type": "code",
   "execution_count": 11,
   "id": "c2ae4455",
   "metadata": {},
   "outputs": [
    {
     "data": {
      "image/png": "[encoded data removed]",
      "text/plain": [
       "<IPython.core.display.Image object>"
      ]
     },
     "metadata": {},
     "output_type": "display_data"
    }
   ],
   "source": [
    "from IPython.display import Image, display\n",
    "\n",
    "try:\n",
    "    display(Image(graph.get_graph().draw_mermaid_png()))\n",
    "except Exception:\n",
    "    # This requires some extra dependencies and is optional\n",
    "    pass"
   ]
  },
  {
   "cell_type": "code",
   "execution_count": null,
   "id": "f926985e",
   "metadata": {},
   "outputs": [],
   "source": []
  }
 ],
 "metadata": {
  "kernelspec": {
   "display_name": "gen_env",
   "language": "python",
   "name": "python3"
  },
  "language_info": {
   "codemirror_mode": {
    "name": "ipython",
    "version": 3
   },
   "file_extension": ".py",
   "mimetype": "text/x-python",
   "name": "python",
   "nbconvert_exporter": "python",
   "pygments_lexer": "ipython3",
   "version": "3.10.16"
  }
 },
 "nbformat": 4,
 "nbformat_minor": 5
}

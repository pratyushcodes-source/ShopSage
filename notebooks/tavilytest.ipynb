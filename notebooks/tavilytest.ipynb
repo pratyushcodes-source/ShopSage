{
 "cells": [
  {
   "cell_type": "code",
   "execution_count": null,
   "metadata": {},
   "outputs": [],
   "source": [
    "import os\n",
    "tavily_api=\"###\"\n",
    "os.environ[\"TAVILY_API_KEY\"] = tavily_api\n"
   ]
  },
  {
   "cell_type": "code",
   "execution_count": 2,
   "metadata": {},
   "outputs": [],
   "source": [
    "from langchain_community.tools.tavily_search import TavilySearchResults"
   ]
  },
  {
   "cell_type": "code",
   "execution_count": null,
   "metadata": {},
   "outputs": [],
   "source": [
    "tool = TavilySearchResults(max_results=10)\n"
   ]
  },
  {
   "cell_type": "code",
   "execution_count": 8,
   "metadata": {},
   "outputs": [
    {
     "data": {
      "text/plain": [
       "[{'url': 'https://www.flipkart.com/mens-tshirts/nike~brand/pr?sid=clo%2Cash%2Cank%2Cedy',\n",
       "  'content': 'There is a wide range of Nike T-shirts men can choose from, for a combination of comfort and style. You can choose any design and colour as per your preference.'},\n",
       " {'url': 'https://www.flipkart.com/clothing-and-accessories/topwear/tshirts/nike~brand/pr?sid=clo%2Cash%2Cank',\n",
       "  'content': 'Sponsored. NIKE. ₹1,495. ₹1,494. Buy 2 items, save extra 15%. Free delivery. Sponsored. NIKE. 20%. ₹1,695. ₹1,356. Buy 2 items, save extra 15%. Free delivery.'},\n",
       " {'url': 'https://www.amazon.in/nike-t-shirts-for-men/b?ie=UTF8&node=13678346031',\n",
       "  'content': 'Shop for high neck, scoop neck, v-neck, round neck and more patterns of Tee from Nike. Buy different types and patterns of Nike T-shirts for men on Amazon'},\n",
       " {'url': 'https://www.nike.com/w/mens-tops-t-shirts-9om13znik1',\n",
       "  'content': \"Order Cancellation Shop by Color Kids Pants & Tights All Sale Shop All Shop All Kids Shop All Big Kids Shop All Sale Shop All Shop All Kids Shop All Nike Tech Men's T-Shirt Nike Sportswear Nike Sportswear Men's Long-Sleeve T-Shirt Men's T-Shirt Men's Fitness T-Shirt Men's Short-Sleeve Button-Down Shirt Men's Dri-FIT T-Shirt Men's T-Shirt Men's T-Shirt Nike Sportswear Nike Sportswear Men's Max90 T-Shirt Nike Sportswear Nike Sportswear Nike ACG Nike ACG Men's T-Shirt Nike Nike Men's Max90 Basketball T-Shirt Men's Max90 Basketball T-Shirt Nike Sportswear Nike Sportswear Nike Sportswear Nike Sportswear Promotions & DiscountsStudentMilitaryTeacherFirst Responders & Medical ProfessionalsBirthday Nike Air Nike Air Force 1 Nike Air Max Terms of Sale #### Canada English #### Luxembourg English #### Portugal English\"},\n",
       " {'url': 'https://www.nike.com/w/womens-tops-t-shirts-5e1x6z9om13',\n",
       "  'content': 'Order Cancellation Kids Shop All Jordan Training & Gym Jordan Training & Gym Shop by Color Jordan Training & Gym Kids Jordan Jordan Pants & Tights Jordan Jordan Fleece Shop All Shop All Kids Shop All Big Kids Shop All Nike 24.7 Nike One Nike Swoosh Nike \"So Win\" Just Do It Nike \"So Win\" Just Do It Women\\'s Dri-FIT Oversized Long-Sleeve Shirt Nike Zenvy Nike Zenvy Women\\'s Dri-FIT Long-Sleeve Top Women\\'s Long-Sleeve T-Shirt Women\\'s Dri-FIT Long-Sleeve Top Nike Pro Nike Pro Nike Pro Nike Pro Women\\'s Dri-FIT Cropped Long-Sleeve Top Women\\'s Oversized Long-Sleeve T-Shirt Nike One Fitted Nike One Fitted Women\\'s Dri-FIT Short-Sleeve Cropped Top Nike Element Nike Element Promotions & DiscountsStudentMilitaryTeacherFirst Responders & Medical ProfessionalsBirthday #### Portugal English'},\n",
       " {'url': 'https://www.nike.com/w/mens-sale-3yaepznik1',\n",
       "  'content': \"Shop Nike.com for clearance men's shoes, clothing and gear ... Shop Latest Sale Styles. ShoesHoodies and PulloversPants and TightsJackets & VestsTops and T-Shirts\"},\n",
       " {'url': 'https://www.quora.com/Are-Branded-items-like-Nike-Adidas-sold-on-Flipkart-Amazon-fake',\n",
       "  'content': 'How do I identify fake Nikes, Reeboks, Pumas, etc., when bought from Amazon or Flipkart? I just purchased my third pair of Nikes online'},\n",
       " {'url': 'https://www.nike.com/w/new-york-yankees-6x9m6',\n",
       "  'content': 'New York Yankees Apparel & Gear ; Gender Men Women Unisex ; Kids Boys Girls ; Sale & Offers See Price in Bag Sale ; Color Black Blue Brown Grey White ; Shop by Price'},\n",
       " {'url': 'https://www.nike.com/my/help/a/payment-options',\n",
       "  'content': 'We want to make buying your favourite Nike shoes and gear fast and easy ... Tops and T-Shirts · Shorts · Pants and Leggings · Hoodies and Sweatshirts · Jackets'},\n",
       " {'url': 'https://en.wikipedia.org/wiki/Nike,_Inc.',\n",
       "  'content': 'Nike, Inc.[note 1] (stylized as NIKE) is an American athletic footwear and apparel corporation headquartered near Beaverton, Oregon, United States.[6] It is the world\\'s largest supplier of athletic shoes and apparel and a major manufacturer of sports equipment, with revenue in excess of US$46 billion in its fiscal year 2022.[7][8] Nike, originally known as Blue Ribbon Sports (BRS), was founded by University of Oregon track athlete Phil Knight and his coach, Bill Bowerman, on January 25, 1964.[16] The company initially operated in Eugene, Oregon as a distributor for Japanese shoemaker Onitsuka Tiger, making most sales at track meets out of Knight\\'s automobile.[16] ^ \"Nike\". Nike. ^ \"Nike Inc. Nike.'}]"
      ]
     },
     "execution_count": 8,
     "metadata": {},
     "output_type": "execute_result"
    }
   ],
   "source": [
    "res = tool.invoke(\"nike tshirt buy amazon flipkart official website\")\n",
    "res"
   ]
  },
  {
   "cell_type": "code",
   "execution_count": 15,
   "metadata": {},
   "outputs": [
    {
     "name": "stdout",
     "output_type": "stream",
     "text": [
      "1 There is a wide range of Nike T-shirts men can choose from, for a combination of comfort and style. You can choose any design and colour as per your preference.\n",
      "https://www.flipkart.com/mens-tshirts/nike~brand/pr?sid=clo%2Cash%2Cank%2Cedy\n",
      "2 Sponsored. NIKE. ₹1,495. ₹1,494. Buy 2 items, save extra 15%. Free delivery. Sponsored. NIKE. 20%. ₹1,695. ₹1,356. Buy 2 items, save extra 15%. Free delivery.\n",
      "https://www.flipkart.com/clothing-and-accessories/topwear/tshirts/nike~brand/pr?sid=clo%2Cash%2Cank\n",
      "3 Shop for high neck, scoop neck, v-neck, round neck and more patterns of Tee from Nike. Buy different types and patterns of Nike T-shirts for men on Amazon\n",
      "https://www.amazon.in/nike-t-shirts-for-men/b?ie=UTF8&node=13678346031\n",
      "4 Order Cancellation Shop by Color Kids Pants & Tights All Sale Shop All Shop All Kids Shop All Big Kids Shop All Sale Shop All Shop All Kids Shop All Nike Tech Men's T-Shirt Nike Sportswear Nike Sportswear Men's Long-Sleeve T-Shirt Men's T-Shirt Men's Fitness T-Shirt Men's Short-Sleeve Button-Down Shirt Men's Dri-FIT T-Shirt Men's T-Shirt Men's T-Shirt Nike Sportswear Nike Sportswear Men's Max90 T-Shirt Nike Sportswear Nike Sportswear Nike ACG Nike ACG Men's T-Shirt Nike Nike Men's Max90 Basketball T-Shirt Men's Max90 Basketball T-Shirt Nike Sportswear Nike Sportswear Nike Sportswear Nike Sportswear Promotions & DiscountsStudentMilitaryTeacherFirst Responders & Medical ProfessionalsBirthday Nike Air Nike Air Force 1 Nike Air Max Terms of Sale #### Canada English #### Luxembourg English #### Portugal English\n",
      "https://www.nike.com/w/mens-tops-t-shirts-9om13znik1\n",
      "5 Order Cancellation Kids Shop All Jordan Training & Gym Jordan Training & Gym Shop by Color Jordan Training & Gym Kids Jordan Jordan Pants & Tights Jordan Jordan Fleece Shop All Shop All Kids Shop All Big Kids Shop All Nike 24.7 Nike One Nike Swoosh Nike \"So Win\" Just Do It Nike \"So Win\" Just Do It Women's Dri-FIT Oversized Long-Sleeve Shirt Nike Zenvy Nike Zenvy Women's Dri-FIT Long-Sleeve Top Women's Long-Sleeve T-Shirt Women's Dri-FIT Long-Sleeve Top Nike Pro Nike Pro Nike Pro Nike Pro Women's Dri-FIT Cropped Long-Sleeve Top Women's Oversized Long-Sleeve T-Shirt Nike One Fitted Nike One Fitted Women's Dri-FIT Short-Sleeve Cropped Top Nike Element Nike Element Promotions & DiscountsStudentMilitaryTeacherFirst Responders & Medical ProfessionalsBirthday #### Portugal English\n",
      "https://www.nike.com/w/womens-tops-t-shirts-5e1x6z9om13\n",
      "6 Shop Nike.com for clearance men's shoes, clothing and gear ... Shop Latest Sale Styles. ShoesHoodies and PulloversPants and TightsJackets & VestsTops and T-Shirts\n",
      "https://www.nike.com/w/mens-sale-3yaepznik1\n",
      "7 How do I identify fake Nikes, Reeboks, Pumas, etc., when bought from Amazon or Flipkart? I just purchased my third pair of Nikes online\n",
      "https://www.quora.com/Are-Branded-items-like-Nike-Adidas-sold-on-Flipkart-Amazon-fake\n",
      "8 New York Yankees Apparel & Gear ; Gender Men Women Unisex ; Kids Boys Girls ; Sale & Offers See Price in Bag Sale ; Color Black Blue Brown Grey White ; Shop by Price\n",
      "https://www.nike.com/w/new-york-yankees-6x9m6\n",
      "9 We want to make buying your favourite Nike shoes and gear fast and easy ... Tops and T-Shirts · Shorts · Pants and Leggings · Hoodies and Sweatshirts · Jackets\n",
      "https://www.nike.com/my/help/a/payment-options\n",
      "10 Nike, Inc.[note 1] (stylized as NIKE) is an American athletic footwear and apparel corporation headquartered near Beaverton, Oregon, United States.[6] It is the world's largest supplier of athletic shoes and apparel and a major manufacturer of sports equipment, with revenue in excess of US$46 billion in its fiscal year 2022.[7][8] Nike, originally known as Blue Ribbon Sports (BRS), was founded by University of Oregon track athlete Phil Knight and his coach, Bill Bowerman, on January 25, 1964.[16] The company initially operated in Eugene, Oregon as a distributor for Japanese shoemaker Onitsuka Tiger, making most sales at track meets out of Knight's automobile.[16] ^ \"Nike\". Nike. ^ \"Nike Inc. Nike.\n",
      "https://en.wikipedia.org/wiki/Nike,_Inc.\n"
     ]
    }
   ],
   "source": [
    "for i in range(len(res)):\n",
    "    print(i+1 ,res[i]['content'])\n",
    "    print(res[i]['url'])"
   ]
  }
 ],
 "metadata": {
  "kernelspec": {
   "display_name": "gen_env",
   "language": "python",
   "name": "python3"
  },
  "language_info": {
   "codemirror_mode": {
    "name": "ipython",
    "version": 3
   },
   "file_extension": ".py",
   "mimetype": "text/x-python",
   "name": "python",
   "nbconvert_exporter": "python",
   "pygments_lexer": "ipython3",
   "version": "3.10.16"
  }
 },
 "nbformat": 4,
 "nbformat_minor": 2
}
